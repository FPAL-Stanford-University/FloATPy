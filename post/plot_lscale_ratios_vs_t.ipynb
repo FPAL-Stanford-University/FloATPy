{
 "cells": [
  {
   "cell_type": "code",
   "execution_count": 137,
   "metadata": {
    "scrolled": false
   },
   "outputs": [
    {
     "name": "stdout",
     "output_type": "stream",
     "text": [
      "Params for this run:\n",
      "\tMc = 0.2\n",
      "\tRe = 1000.0\n",
      "\trr = 7.0\n",
      "Params for this grid:\n",
      "\tN = 1024x1448x512\n",
      "\tL = 150.0x200.0x75.0\n",
      "['lscale_vv_0001.dat', 'lscale_vv_0002.dat', 'lscale_vv_0003.dat', 'lscale_vv_0004.dat', 'lscale_vv_0005.dat', 'lscale_vv_0006.dat', 'lscale_vv_0007.dat', 'lscale_vv_0008.dat', 'lscale_vv_0009.dat', 'lscale_vv_0010.dat', 'lscale_vv_0014.dat', 'lscale_vv_0015.dat', 'lscale_vv_0016.dat', 'lscale_vv_0020.dat', 'lscale_vv_0021.dat', 'lscale_vv_0022.dat', 'lscale_vv_0023.dat', 'lscale_vv_0024.dat', 'lscale_vv_0025.dat', 'lscale_vv_0026.dat', 'lscale_vv_0027.dat', 'lscale_vv_0028.dat', 'lscale_vv_0058.dat', 'lscale_vv_0059.dat', 'lscale_vv_0060.dat', 'lscale_vv_0061.dat', 'lscale_vv_0062.dat', 'lscale_vv_0063.dat', 'lscale_vv_0064.dat', 'lscale_vv_0065.dat', 'lscale_vv_0066.dat', 'lscale_vv_0067.dat', 'lscale_vv_0068.dat', 'lscale_vv_0069.dat', 'lscale_vv_0070.dat', 'lscale_vv_0071.dat', 'lscale_vv_0072.dat', 'lscale_vv_0073.dat', 'lscale_vv_0074.dat', 'lscale_vv_0075.dat', 'lscale_vv_0076.dat', 'lscale_vv_0077.dat']\n"
     ]
    }
   ],
   "source": [
    "import sys\n",
    "import os\n",
    "import glob\n",
    "from mpi4py import MPI\n",
    "import h5py\n",
    "import numpy as np\n",
    "import matplotlib.pyplot as plt\n",
    "from mpl_toolkits.axes_grid1 import make_axes_locatable\n",
    "%matplotlib inline\n",
    "%config InlineBackend.figure_format = 'png'\n",
    "\n",
    "import floatpy.readers.padeops_reader as por\n",
    "import floatpy.readers.parallel_reader as pdr\n",
    "import floatpy.utilities.reduction as red\n",
    "import floatpy.derivatives.compact.compact_derivative as cd\n",
    "import scripts.statistics as stats\n",
    "import scripts.get_namelist as nml\n",
    "from scripts.common import *\n",
    "\n",
    "def get_lscale_vs_t(directory,flist,thresh=0.2,plane=0):\n",
    "    mat = np.zeros([len(flist),4])\n",
    "\n",
    "    for i,fname in enumerate(flist):\n",
    "        tID = fname.split('_')[-1]\n",
    "        tID = int(tID.split('.dat')[0])\n",
    "        time = nml.read_time(directory,tID)\n",
    "\n",
    "        # Get eta\n",
    "        dtheta = get_dtheta(directory,time)\n",
    "        eta = y/dtheta\n",
    "        \n",
    "        # Get y lengthscale\n",
    "        autocorr = np.fromfile(fname,sep=' ')\n",
    "        autocorr = np.reshape(autocorr,[Ny,3])\n",
    "        autocorr = autocorr[:,plane]\n",
    "        ly,tmp1,tmp2 = get_lscale(-y,autocorr,thresh=thresh)\n",
    "        \n",
    "        # Get xz lengthscale (vv only)\n",
    "        # Plot the Lx,Ly lengthscales:\n",
    "        x = np.linspace(0,Lx,Nx)\n",
    "        z = np.linspace(0,Lz,Nz)\n",
    "        if inp.rr==1:\n",
    "            qname = fname.split('_')[1]\n",
    "            fname = dir_out+'/autocorr_%s_%04d.h5'%(qname,tID)\n",
    "            hf =  h5py.File(fname,'r')\n",
    "            try:\n",
    "                autocorr = np.mean(hf['qx'],axis=-1)\n",
    "                autocorr = np.fft.fftshift(autocorr)\n",
    "            except: \n",
    "                autocorr = hf['corrx'][:,0]\n",
    "            #plt.plot(x,autocorr,label=tID)\n",
    "            lx,i1,i2 = get_lscale(x,autocorr,thresh=thresh)        \n",
    "            try:\n",
    "                autocorr = np.mean(hf['qz'],axis=0)\n",
    "                autocorr = np.fft.fftshift(autocorr)\n",
    "            except: \n",
    "                autocorr = hf['corrz'][:,0]\n",
    "            lz,i1,i2 = get_lscale(z,autocorr,thresh=thresh)\n",
    "            #plt.plot(autocorr)\n",
    "        else:\n",
    "            lx = 0\n",
    "            lz = 0\n",
    "\n",
    "        # Get 99% lengthscale\n",
    "        utilde = np.fromfile( directory+'shearlayer_utilde_%04d.dat'%tID, sep=' ')\n",
    "        L99,i1,i2 = get_L99(-y,utilde)\n",
    "        \n",
    "        # Record for later\n",
    "        mat[i,0] = time\n",
    "        mat[i,1] = ly/L99\n",
    "        mat[i,2] = lx/ly\n",
    "        mat[i,3] = lz/ly\n",
    "        \n",
    "    isort = np.argsort(mat[:,0]) #sort time\n",
    "    return mat[isort,:]\n",
    "\n",
    "directory = '/home/kmatsuno/ShearLayerData/production/Mc02/rr7/1024x1448x512/'\n",
    "inp = nml.inputs(directory,verbose=True)\n",
    "Nx,Ny,Nz,Lx,Ly,Lz = nml.read_grid_params(directory,verbose=True)\n",
    "Ny = int(Ny)\n",
    "x = np.linspace(0,Lx,Nx)\n",
    "z = np.linspace(0,Lz,Nz)\n",
    "y = np.linspace(-Ly/2.,Ly/2.,Ny)\n",
    "\n",
    "# And read growth rates\n",
    "tlist,dlist,rates = growth_rates(directory+'shearlayer_')\n",
    "\n",
    "flist = glob.glob(directory+\"*lscale_vv*\")\n",
    "flist.sort()\n",
    "print([f.split('/')[-1] for f in flist])\n"
   ]
  },
  {
   "cell_type": "code",
   "execution_count": 140,
   "metadata": {},
   "outputs": [
    {
     "name": "stdout",
     "output_type": "stream",
     "text": [
      "0.2:[0.358564749566,0.0690429250423],\n",
      "0.2:[0.0,0.0],\n",
      "0.2:[0.0,0.0],\n"
     ]
    },
    {
     "data": {
      "text/plain": [
       "(600, 800)"
      ]
     },
     "execution_count": 140,
     "metadata": {},
     "output_type": "execute_result"
    },
    {
     "data": {
      "image/png": "[encoded data removed]",
      "text/plain": [
       "<Figure size 432x288 with 1 Axes>"
      ]
     },
     "metadata": {
      "needs_background": "light"
     },
     "output_type": "display_data"
    }
   ],
   "source": [
    "flist = glob.glob(directory+\"*lscale_vv*\")\n",
    "dat = get_lscale_vs_t(directory,flist,thresh=0.1,plane=0)\n",
    "\n",
    "plt.figure()\n",
    "plt.plot(dat[:,0],dat[:,1],'-*')\n",
    "plt.plot(dat[:,0],dat[:,2],'-*')\n",
    "plt.plot(dat[:,0],dat[:,3],'-*')\n",
    "plt.grid(True)\n",
    "\n",
    "idx = -13\n",
    "ie = None\n",
    "for j in [1,2,3]:\n",
    "    print('{}:[{},{}],'.format(inp.Mc,np.mean(dat[idx:ie,j]),np.std(dat[idx:ie,j])))\n",
    "plt.xlim([600,800])"
   ]
  },
  {
   "cell_type": "code",
   "execution_count": 111,
   "metadata": {
    "scrolled": false
   },
   "outputs": [
    {
     "name": "stdout",
     "output_type": "stream",
     "text": [
      "0.2:[0.0,0.0],\n",
      "0.8:[0.0,0.0],\n",
      "2.0:[0.0,0.0],\n",
      "Done\n"
     ]
    },
    {
     "data": {
      "text/plain": [
       "Text(0.5,0,'$t/\\\\Delta U$')"
      ]
     },
     "execution_count": 111,
     "metadata": {},
     "output_type": "execute_result"
    },
    {
     "data": {
      "image/png": "[encoded data removed]",
      "text/plain": [
       "<Figure size 750x450 with 1 Axes>"
      ]
     },
     "metadata": {
      "needs_background": "light"
     },
     "output_type": "display_data"
    }
   ],
   "source": [
    "s = '7'\n",
    "\n",
    "if s=='1': Mc_list = ['02','04','08','12','16','20']\n",
    "else: Mc_list = ['02','08','20']\n",
    "    \n",
    "fig = plt.figure(figsize=(5,3),dpi=150)\n",
    "ax = plt.axes()\n",
    "\n",
    "for Mc in Mc_list:\n",
    "    if 0:#Mc is '04' or Mc is '02':\n",
    "        dir_out = '/home/kmatsuno/ShearLayerData/temporal/Mc%s/rr%s/1024x1448x512/'%(Mc,s)\n",
    "    else:\n",
    "        dir_out = '/home/kmatsuno/ShearLayerData/production/Mc%s/rr%s/1024x1448x512/'%(Mc,s)\n",
    "    inp = nml.inputs(dir_out,verbose=False)\n",
    "    Nx,Ny,Nz,Lx,Ly,Lz = nml.read_grid_params(dir_out,verbose=False)\n",
    "    Ny = int(Ny)\n",
    "    y = np.linspace(-Ly/2.,Ly/2.,Ny)\n",
    "\n",
    "    lscale = 'vv'\n",
    "    flist = glob.glob(dir_out+\"*lscale_%s*\"%lscale)\n",
    "    flist.sort()\n",
    "    \n",
    "    # plane 0:yc, 1:yc+L99/4, 2:yc-L99/4\n",
    "    dat = get_lscale_vs_t(dir_out,flist[:],thresh=0.1,plane=0) \n",
    "    t = dat[:,0]*inp.du\n",
    "    f = dat[:,3] # 1:ly/L99, 2:lx/ly, 3:lz/ly\n",
    "    ax.plot(t,f,'-*',label='{}'.format(inp.Mc))\n",
    "    \n",
    "#     #if Mc=='02': ist=5;ien=10 # mira run\n",
    "#     if Mc=='02': ist=-9;ien=-1 # theta run\n",
    "#     #elif Mc=='04': ist=8;ien=14 #mira run\n",
    "#     elif Mc=='04': ist=7;ien=10 #theta run\n",
    "#     elif Mc=='08': ist=2;ien=8 \n",
    "#     elif Mc=='12': ist=4;ien=-5\n",
    "#     elif Mc=='16': ist=1;ien=None\n",
    "#     elif Mc=='20': ist=0;ien=4\n",
    "    if Mc=='02': ist=5;ien=10 # mira run\n",
    "    elif Mc=='08': ist=2;ien=8 \n",
    "    elif Mc=='20': ist=2;ien=8 \n",
    "\n",
    "    print('{}:[{},{}],'.format(inp.Mc,np.mean(f[ist:ien]),np.std(f[ist:ien])))\n",
    "    \n",
    "print('Done')\n",
    "ax.grid(True)\n",
    "ax.legend()\n",
    "ax.set_xlabel(r'$t/\\Delta U$')"
   ]
  }
 ],
 "metadata": {
  "kernelspec": {
   "display_name": "Python 2",
   "language": "python",
   "name": "python2"
  },
  "language_info": {
   "codemirror_mode": {
    "name": "ipython",
    "version": 2
   },
   "file_extension": ".py",
   "mimetype": "text/x-python",
   "name": "python",
   "nbconvert_exporter": "python",
   "pygments_lexer": "ipython2",
   "version": "2.7.5"
  }
 },
 "nbformat": 4,
 "nbformat_minor": 2
}
